{
 "cells": [
  {
   "cell_type": "markdown",
   "metadata": {},
   "source": [
    "q1) Class are a blueprint or a set of instructions to build a specific type of object.\n",
    "Object is an instance of a class."
   ]
  },
  {
   "cell_type": "code",
   "execution_count": 3,
   "metadata": {},
   "outputs": [],
   "source": [
    "class school:\n",
    "    pass"
   ]
  },
  {
   "cell_type": "code",
   "execution_count": 4,
   "metadata": {},
   "outputs": [],
   "source": [
    "student = school()"
   ]
  },
  {
   "cell_type": "markdown",
   "metadata": {},
   "source": [
    "q2)There are four pillars:\n",
    "\n",
    "Encapsulation\n",
    "Inheritance\n",
    "Polymorphism\n",
    "Abstraction"
   ]
  },
  {
   "cell_type": "markdown",
   "metadata": {},
   "source": [
    "q3) When we want to pass input or data into the class the __init__() function is used"
   ]
  },
  {
   "cell_type": "code",
   "execution_count": 6,
   "metadata": {},
   "outputs": [],
   "source": [
    "class colllege:\n",
    "    def __init__(self,rollno,branch):\n",
    "        self.a = rollno\n",
    "        self.b = branch\n",
    "        \n",
    "    def prin(self):\n",
    "        return self.a,self.b\n",
    "        "
   ]
  },
  {
   "cell_type": "markdown",
   "metadata": {},
   "source": [
    "q4) self is written in functions inside of a class to bind that function to thjat specific class"
   ]
  },
  {
   "cell_type": "markdown",
   "metadata": {},
   "source": [
    "q5)Inheritence is a mechanism where you can to derive a class from another class for a hierarchy of classes that share a set of attributes and methods."
   ]
  },
  {
   "cell_type": "code",
   "execution_count": null,
   "metadata": {},
   "outputs": [],
   "source": []
  }
 ],
 "metadata": {
  "kernelspec": {
   "display_name": "Python 3",
   "language": "python",
   "name": "python3"
  },
  "language_info": {
   "codemirror_mode": {
    "name": "ipython",
    "version": 3
   },
   "file_extension": ".py",
   "mimetype": "text/x-python",
   "name": "python",
   "nbconvert_exporter": "python",
   "pygments_lexer": "ipython3",
   "version": "3.7.6"
  }
 },
 "nbformat": 4,
 "nbformat_minor": 4
}
